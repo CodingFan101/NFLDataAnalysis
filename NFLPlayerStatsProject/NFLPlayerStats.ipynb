{
 "cells": [
  {
   "cell_type": "code",
   "execution_count": 1,
   "id": "6c5fbc48",
   "metadata": {},
   "outputs": [],
   "source": [
    "import mysql.connector\n",
    "import pandas as pd"
   ]
  },
  {
   "cell_type": "code",
   "execution_count": 4,
   "id": "06594996",
   "metadata": {},
   "outputs": [
    {
     "name": "stdout",
     "output_type": "stream",
     "text": [
      "Server connection successful\n"
     ]
    }
   ],
   "source": [
    "# connect to MySQL server\n",
    "serverconnection = mysql.connector.connect(user = \"root\", password = \"MSwP12ch!\", host = \"localhost\", database = \"nflplayerstats\")\n",
    "print(\"Server connection successful\")"
   ]
  },
  {
   "cell_type": "code",
   "execution_count": 3,
   "id": "70e87244",
   "metadata": {},
   "outputs": [
    {
     "name": "stdout",
     "output_type": "stream",
     "text": [
      "Database created successfully\n",
      "Database created successfully\n"
     ]
    }
   ],
   "source": [
    "# create database to hold NFL player stats\n",
    "def create_database(connection, query):\n",
    "    cursor = connection.cursor()\n",
    "    try:\n",
    "        cursor.execute(query)\n",
    "        print(\"Database created successfully\")\n",
    "    except Error:\n",
    "        print(\"There was an error\")\n",
    "\n",
    "create_database_query = \"CREATE DATABASE nflplayerstats\"\n",
    "create_database(serverconnection, create_database_query)"
   ]
  },
  {
   "cell_type": "code",
   "execution_count": 5,
   "id": "bbb2d379",
   "metadata": {},
   "outputs": [],
   "source": [
    "# function for executing SQL queries\n",
    "def execute_query(connection, query):\n",
    "    cursor = connection.cursor()\n",
    "    cursor.execute(query)\n",
    "    connection.commit()\n",
    "    print(\"Query successful\")"
   ]
  },
  {
   "cell_type": "code",
   "execution_count": 6,
   "id": "80bfb429",
   "metadata": {},
   "outputs": [
    {
     "name": "stdout",
     "output_type": "stream",
     "text": [
      "Query successful\n"
     ]
    }
   ],
   "source": [
    "# create table named 'Team'\n",
    "create_team_table = \"\"\"\n",
    "CREATE TABLE Team\n",
    "(\n",
    "  TeamID INT NOT NULL,\n",
    "  TeamName VARCHAR(50) NOT NULL,\n",
    "  Division VARCHAR(50) NOT NULL,\n",
    "  DivisionRank INT NOT NULL,\n",
    "  TotalWins INT NOT NULL,\n",
    "  OLineRank INT NOT NULL,\n",
    "  DLineRank INT NOT NULL,\n",
    "  PRIMARY KEY (TeamID)\n",
    ");\n",
    "\"\"\"\n",
    "connection = mysql.connector.connect(user = \"root\", password = \"MSwP12ch!\", host = \"localhost\", database = \"nflplayerstats\")\n",
    "execute_query(connection, create_team_table)"
   ]
  },
  {
   "cell_type": "code",
   "execution_count": 8,
   "id": "5c3d6370",
   "metadata": {},
   "outputs": [
    {
     "name": "stdout",
     "output_type": "stream",
     "text": [
      "Query successful\n"
     ]
    }
   ],
   "source": [
    "# create table named 'Player'\n",
    "create_player_table = \"\"\"\n",
    "CREATE TABLE Player\n",
    "(\n",
    "  ReferenceID INT NOT NULL,\n",
    "  PlayerName VARCHAR(150) NOT NULL,\n",
    "  Position VARCHAR(50) NOT NULL,\n",
    "  TotalYards INT NOT NULL,\n",
    "  Touchdowns INT NOT NULL,\n",
    "  TeamID INT NOT NULL,\n",
    "  PRIMARY KEY (ReferenceID),\n",
    "  FOREIGN KEY (TeamID) REFERENCES Team(TeamID)\n",
    ");\n",
    "\"\"\"\n",
    "connection = mysql.connector.connect(user = \"root\", password = \"MSwP12ch!\", host = \"localhost\", database = \"nflplayerstats\")\n",
    "execute_query(connection, create_player_table)"
   ]
  },
  {
   "cell_type": "code",
   "execution_count": 9,
   "id": "b51a3f63",
   "metadata": {},
   "outputs": [
    {
     "name": "stdout",
     "output_type": "stream",
     "text": [
      "Query successful\n"
     ]
    }
   ],
   "source": [
    "# inserting data into 'team' table regarding the 2021 NFL season\n",
    "populate_team = \"\"\"\n",
    "INSERT INTO team VALUES\n",
    "(1, 'NYG', 'NFCEAST', 4, 4, 30, 23),\n",
    "(2, 'KCC', 'AFCWEST', 1, 12, 5, 8),\n",
    "(3, 'TBB', 'NFCSOUTH', 1, 13, 2, 5);\n",
    "\"\"\"\n",
    "connection = mysql.connector.connect(user = \"root\", password = \"MSwP12ch!\", host = \"localhost\", database = \"nflplayerstats\")\n",
    "execute_query(connection, populate_team)"
   ]
  },
  {
   "cell_type": "code",
   "execution_count": 13,
   "id": "591fc44a",
   "metadata": {},
   "outputs": [
    {
     "name": "stdout",
     "output_type": "stream",
     "text": [
      "Query successful\n"
     ]
    }
   ],
   "source": [
    "# inserting data into 'player' table, also regarding the 2021 NFL season\n",
    "populate_player = \"\"\"\n",
    "INSERT INTO player VALUES\n",
    "(8, 'Daniel Jones', 'QB', 2428, 10, 1),\n",
    "(26, 'Saquon Barkley', 'RB', 263, 2, 1),\n",
    "(15, 'Patrick Mahomes', 'QB', 4839, 37, 2),\n",
    "(25, 'Clyde Edwards-Helaire', 'RB', 129, 2, 2),\n",
    "(12, 'Tom Brady', 'QB', 5316, 43, 3),\n",
    "(7, 'Leonard Fournette', 'RB', 454, 2, 3);\n",
    "\"\"\"\n",
    "connection = mysql.connector.connect(user = \"root\", password = \"MSwP12ch!\", host = \"localhost\", database = \"nflplayerstats\")\n",
    "execute_query(connection, populate_player)"
   ]
  },
  {
   "cell_type": "code",
   "execution_count": 17,
   "id": "690964e1",
   "metadata": {},
   "outputs": [
    {
     "name": "stdout",
     "output_type": "stream",
     "text": [
      "('Tom Brady', 5316, 43, 2)\n",
      "('Patrick Mahomes', 4839, 37, 5)\n",
      "('Daniel Jones', 2428, 10, 30)\n"
     ]
    }
   ],
   "source": [
    "# function for reading results of query\n",
    "def show_query_results(connection, query):\n",
    "    cursor = connection.cursor()\n",
    "    result = None\n",
    "    cursor.execute(query)\n",
    "    result = cursor.fetchall()\n",
    "    return result\n",
    "\n",
    "# query for analyzing data regarding total passing yards\n",
    "# & touchdown passes for quarterbacks, \n",
    "# and how it correlates to offensive line rankings\n",
    "q1 = \"\"\"\n",
    "SELECT playername\n",
    ",totalyards\n",
    ",touchdowns\n",
    ",olinerank\n",
    "FROM player INNER JOIN team ON\n",
    "player.teamid = team.teamid\n",
    "WHERE player.position = 'QB'\n",
    "ORDER BY totalyards DESC;\n",
    "\"\"\"\n",
    "connection = mysql.connector.connect(user = \"root\", password = \"MSwP12ch!\", host = \"localhost\", database = \"nflplayerstats\")\n",
    "results = show_query_results(connection, q1)\n",
    "\n",
    "for entry in results:\n",
    "    print(entry)"
   ]
  },
  {
   "cell_type": "code",
   "execution_count": 15,
   "id": "425cda73",
   "metadata": {},
   "outputs": [
    {
     "data": {
      "text/plain": [
       "[('Leonard Fournette', 454, 2),\n",
       " ('Saquon Barkley', 263, 30),\n",
       " ('Clyde Edwards-Helaire', 129, 5)]"
      ]
     },
     "execution_count": 15,
     "metadata": {},
     "output_type": "execute_result"
    }
   ],
   "source": [
    "# query for analyzing data regarding total rushing yards\n",
    "# for running backs\n",
    "# and how it correlates to offensive line rankings\n",
    "q2 = \"\"\"\n",
    "SELECT playername\n",
    ",totalyards\n",
    ",olinerank\n",
    "FROM player INNER JOIN team ON\n",
    "player.teamid = team.teamid\n",
    "WHERE player.position = 'RB'\n",
    "ORDER BY totalyards DESC;\n",
    "\"\"\"\n",
    "connection = mysql.connector.connect(user = \"root\", password = \"MSwP12ch!\", host = \"localhost\", database = \"nflplayerstats\")\n",
    "show_query_results(connection, q2)"
   ]
  },
  {
   "cell_type": "code",
   "execution_count": 18,
   "id": "bd268089",
   "metadata": {},
   "outputs": [
    {
     "data": {
      "text/html": [
       "<div>\n",
       "<style scoped>\n",
       "    .dataframe tbody tr th:only-of-type {\n",
       "        vertical-align: middle;\n",
       "    }\n",
       "\n",
       "    .dataframe tbody tr th {\n",
       "        vertical-align: top;\n",
       "    }\n",
       "\n",
       "    .dataframe thead th {\n",
       "        text-align: right;\n",
       "    }\n",
       "</style>\n",
       "<table border=\"1\" class=\"dataframe\">\n",
       "  <thead>\n",
       "    <tr style=\"text-align: right;\">\n",
       "      <th></th>\n",
       "      <th>playername</th>\n",
       "      <th>totalyards</th>\n",
       "      <th>touchdowns</th>\n",
       "      <th>olinerank</th>\n",
       "    </tr>\n",
       "  </thead>\n",
       "  <tbody>\n",
       "    <tr>\n",
       "      <th>0</th>\n",
       "      <td>Tom Brady</td>\n",
       "      <td>5316</td>\n",
       "      <td>43</td>\n",
       "      <td>2</td>\n",
       "    </tr>\n",
       "    <tr>\n",
       "      <th>1</th>\n",
       "      <td>Patrick Mahomes</td>\n",
       "      <td>4839</td>\n",
       "      <td>37</td>\n",
       "      <td>5</td>\n",
       "    </tr>\n",
       "    <tr>\n",
       "      <th>2</th>\n",
       "      <td>Daniel Jones</td>\n",
       "      <td>2428</td>\n",
       "      <td>10</td>\n",
       "      <td>30</td>\n",
       "    </tr>\n",
       "  </tbody>\n",
       "</table>\n",
       "</div>"
      ],
      "text/plain": [
       "        playername  totalyards  touchdowns  olinerank\n",
       "0        Tom Brady        5316          43          2\n",
       "1  Patrick Mahomes        4839          37          5\n",
       "2     Daniel Jones        2428          10         30"
      ]
     },
     "metadata": {},
     "output_type": "display_data"
    }
   ],
   "source": [
    "# create and display a Pandas Dataframe\n",
    "# by using a list\n",
    "pandalist = []\n",
    "\n",
    "for entry in results:\n",
    "    result = list(entry)\n",
    "    pandalist.append(result)\n",
    "\n",
    "columnnames = [\"playername\", \"totalyards\", \"touchdowns\", \"olinerank\"]\n",
    "df = pd.DataFrame(pandalist, columns = columnnames)\n",
    "\n",
    "display(df)"
   ]
  }
 ],
 "metadata": {
  "kernelspec": {
   "display_name": "Python 3 (ipykernel)",
   "language": "python",
   "name": "python3"
  },
  "language_info": {
   "codemirror_mode": {
    "name": "ipython",
    "version": 3
   },
   "file_extension": ".py",
   "mimetype": "text/x-python",
   "name": "python",
   "nbconvert_exporter": "python",
   "pygments_lexer": "ipython3",
   "version": "3.9.12"
  }
 },
 "nbformat": 4,
 "nbformat_minor": 5
}
